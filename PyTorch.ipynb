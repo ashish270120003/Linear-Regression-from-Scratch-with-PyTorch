{
  "nbformat": 4,
  "nbformat_minor": 0,
  "metadata": {
    "colab": {
      "provenance": []
    },
    "kernelspec": {
      "name": "python3",
      "display_name": "Python 3"
    },
    "language_info": {
      "name": "python"
    }
  },
  "cells": [
    {
      "cell_type": "code",
      "execution_count": null,
      "metadata": {
        "id": "n7bHH9MKtVKz"
      },
      "outputs": [],
      "source": []
    },
    {
      "cell_type": "markdown",
      "metadata": {
        "id": "dc2a553a"
      },
      "source": [
        "# Task\n",
        "Implement linear regression using PyTorch without relying on high-level abstractions."
      ]
    },
    {
      "cell_type": "markdown",
      "metadata": {
        "id": "2625ca97"
      },
      "source": [
        "## Generate synthetic data\n",
        "\n",
        "### Subtask:\n",
        "Create synthetic data for linear regression.\n"
      ]
    },
    {
      "cell_type": "markdown",
      "metadata": {
        "id": "d147806a"
      },
      "source": [
        "**Reasoning**:\n",
        "The subtask requires generating synthetic data for linear regression using PyTorch. This involves creating a feature tensor `x` and a target tensor `y` with added noise, both as PyTorch tensors.\n",
        "\n"
      ]
    },
    {
      "cell_type": "code",
      "metadata": {
        "colab": {
          "base_uri": "https://localhost:8080/"
        },
        "id": "55cf6787",
        "outputId": "d3f197a0-4156-4d2f-9e15-ae87ef923a23"
      },
      "source": [
        "import torch\n",
        "\n",
        "# Generate 100 data points for x from a normal distribution\n",
        "x = torch.randn(100, 1)\n",
        "\n",
        "# Generate noise from a normal distribution\n",
        "noise = torch.randn(100, 1) * 0.1\n",
        "\n",
        "# Generate y using the formula y = 2*x + 1 + noise\n",
        "y = 2 * x + 1 + noise\n",
        "\n",
        "print(\"Shape of x:\", x.shape)\n",
        "print(\"Shape of y:\", y.shape)"
      ],
      "execution_count": 1,
      "outputs": [
        {
          "output_type": "stream",
          "name": "stdout",
          "text": [
            "Shape of x: torch.Size([100, 1])\n",
            "Shape of y: torch.Size([100, 1])\n"
          ]
        }
      ]
    },
    {
      "cell_type": "markdown",
      "metadata": {
        "id": "9930fb53"
      },
      "source": [
        "## Define the model\n",
        "\n",
        "### Subtask:\n",
        "Define the linear regression model (y = wx + b) using PyTorch tensors.\n"
      ]
    },
    {
      "cell_type": "markdown",
      "metadata": {
        "id": "48aa3eb2"
      },
      "source": [
        "**Reasoning**:\n",
        "Initialize the weight `w` and bias `b` as PyTorch tensors with the specified shapes and enable gradient tracking, then print them.\n",
        "\n"
      ]
    },
    {
      "cell_type": "code",
      "metadata": {
        "colab": {
          "base_uri": "https://localhost:8080/"
        },
        "id": "2f2adebd",
        "outputId": "6ef9a898-daaa-4f82-d4e2-fdd7ec709081"
      },
      "source": [
        "# Initialize weight w with shape (1, 1) and enable gradient tracking\n",
        "w = torch.randn(1, 1, requires_grad=True)\n",
        "\n",
        "# Initialize bias b with shape (1,) and enable gradient tracking\n",
        "b = torch.randn(1, requires_grad=True)\n",
        "\n",
        "# Print the initialized w and b tensors\n",
        "print(\"Initialized weight w:\", w)\n",
        "print(\"Initialized bias b:\", b)"
      ],
      "execution_count": 2,
      "outputs": [
        {
          "output_type": "stream",
          "name": "stdout",
          "text": [
            "Initialized weight w: tensor([[-0.5455]], requires_grad=True)\n",
            "Initialized bias b: tensor([-1.6109], requires_grad=True)\n"
          ]
        }
      ]
    },
    {
      "cell_type": "markdown",
      "metadata": {
        "id": "9067b8a6"
      },
      "source": [
        "## Define the loss function\n",
        "\n",
        "### Subtask:\n",
        "Define the mean squared error loss function.\n"
      ]
    },
    {
      "cell_type": "markdown",
      "metadata": {
        "id": "38608a9e"
      },
      "source": [
        "**Reasoning**:\n",
        "Define the mean squared error loss function as instructed.\n",
        "\n"
      ]
    },
    {
      "cell_type": "code",
      "metadata": {
        "id": "2538351e"
      },
      "source": [
        "def mse_loss(y_pred, y_true):\n",
        "  \"\"\"Calculates the mean squared error loss.\n",
        "\n",
        "  Args:\n",
        "    y_pred: The predicted values.\n",
        "    y_true: The true values.\n",
        "\n",
        "  Returns:\n",
        "    The mean squared error loss.\n",
        "  \"\"\"\n",
        "  return torch.mean((y_pred - y_true)**2)"
      ],
      "execution_count": 3,
      "outputs": []
    },
    {
      "cell_type": "markdown",
      "metadata": {
        "id": "84f5a76e"
      },
      "source": [
        "## Define the optimizer\n",
        "\n",
        "### Subtask:\n",
        "Define the stochastic gradient descent optimizer.\n"
      ]
    },
    {
      "cell_type": "markdown",
      "metadata": {
        "id": "3a94055c"
      },
      "source": [
        "**Reasoning**:\n",
        "Define the `sgd_optimizer` function as described in the instructions.\n",
        "\n"
      ]
    },
    {
      "cell_type": "code",
      "metadata": {
        "id": "0b78b887"
      },
      "source": [
        "def sgd_optimizer(parameters, learning_rate):\n",
        "  \"\"\"Performs a single step of stochastic gradient descent.\n",
        "\n",
        "  Args:\n",
        "    parameters: A list of parameters (tensors) to update.\n",
        "    learning_rate: The learning rate for the update.\n",
        "  \"\"\"\n",
        "  with torch.no_grad():\n",
        "    for param in parameters:\n",
        "      if param.grad is not None:\n",
        "        param -= learning_rate * param.grad"
      ],
      "execution_count": 4,
      "outputs": []
    },
    {
      "cell_type": "markdown",
      "metadata": {
        "id": "12abf8c7"
      },
      "source": [
        "## Train the model\n",
        "\n",
        "### Subtask:\n",
        "Implement the training loop to fit the model to the data using gradient descent.\n"
      ]
    },
    {
      "cell_type": "markdown",
      "metadata": {
        "id": "915c4fc2"
      },
      "source": [
        "**Reasoning**:\n",
        "Implement the training loop as per the instructions, including forward pass, loss calculation, backward pass, parameter update, and gradient zeroing.\n",
        "\n"
      ]
    },
    {
      "cell_type": "code",
      "metadata": {
        "colab": {
          "base_uri": "https://localhost:8080/"
        },
        "id": "6ded9a93",
        "outputId": "7499c106-e91f-4f28-fc6b-f0b6b3bc1911"
      },
      "source": [
        "# Set learning rate and number of epochs\n",
        "learning_rate = 0.01\n",
        "epochs = 1000 # Increased epochs for better convergence with manual implementation\n",
        "\n",
        "# Training loop\n",
        "for epoch in range(epochs):\n",
        "  # Forward pass: calculate predicted values\n",
        "  y_pred = w * x + b\n",
        "\n",
        "  # Calculate the loss\n",
        "  loss = mse_loss(y_pred, y)\n",
        "\n",
        "  # Backward pass: calculate gradients\n",
        "  loss.backward()\n",
        "\n",
        "  # Update parameters using the optimizer\n",
        "  sgd_optimizer([w, b], learning_rate)\n",
        "\n",
        "  # Zero the gradients\n",
        "  w.grad.zero_()\n",
        "  b.grad.zero_()\n",
        "\n",
        "  # Print loss occasionally to monitor progress\n",
        "  if (epoch + 1) % 100 == 0:\n",
        "    print(f'Epoch [{epoch+1}/{epochs}], Loss: {loss.item():.4f}')"
      ],
      "execution_count": 7,
      "outputs": [
        {
          "output_type": "stream",
          "name": "stdout",
          "text": [
            "Epoch [100/1000], Loss: 0.0111\n",
            "Epoch [200/1000], Loss: 0.0084\n",
            "Epoch [300/1000], Loss: 0.0084\n",
            "Epoch [400/1000], Loss: 0.0084\n",
            "Epoch [500/1000], Loss: 0.0084\n",
            "Epoch [600/1000], Loss: 0.0084\n",
            "Epoch [700/1000], Loss: 0.0084\n",
            "Epoch [800/1000], Loss: 0.0084\n",
            "Epoch [900/1000], Loss: 0.0084\n",
            "Epoch [1000/1000], Loss: 0.0084\n"
          ]
        }
      ]
    },
    {
      "cell_type": "markdown",
      "metadata": {
        "id": "ac19e69b"
      },
      "source": [
        "## Visualize the results\n",
        "\n",
        "### Subtask:\n",
        "Plot the original data and the fitted line.\n"
      ]
    },
    {
      "cell_type": "markdown",
      "metadata": {
        "id": "080c2188"
      },
      "source": [
        "**Reasoning**:\n",
        "Plot the original data and the fitted line based on the trained model's parameters.\n",
        "\n"
      ]
    },
    {
      "cell_type": "code",
      "metadata": {
        "colab": {
          "base_uri": "https://localhost:8080/",
          "height": 472
        },
        "id": "acc21a1e",
        "outputId": "92b6132b-2d44-494d-def6-80017af78322"
      },
      "source": [
        "import matplotlib.pyplot as plt\n",
        "\n",
        "# Plot original data\n",
        "plt.scatter(x.detach().numpy(), y.detach().numpy(), color='blue', label='Original Data')\n",
        "\n",
        "# Calculate predicted y values\n",
        "y_fitted = w.detach() * x.detach() + b.detach()\n",
        "\n",
        "# Plot fitted line\n",
        "plt.plot(x.detach().numpy(), y_fitted.numpy(), color='red', label='Fitted Line')\n",
        "\n",
        "# Add labels and title\n",
        "plt.xlabel('x')\n",
        "plt.ylabel('y')\n",
        "plt.title('Linear Regression Fit')\n",
        "\n",
        "# Add legend\n",
        "plt.legend()\n",
        "\n",
        "# Display plot\n",
        "plt.show()"
      ],
      "execution_count": 6,
      "outputs": [
        {
          "output_type": "display_data",
          "data": {
            "text/plain": [
              "<Figure size 640x480 with 1 Axes>"
            ],
            "image/png": "[encoded data removed]"
          },
          "metadata": {}
        }
      ]
    },
    {
      "cell_type": "markdown",
      "metadata": {
        "id": "7100e81c"
      },
      "source": [
        "## Summary:\n",
        "\n",
        "### Data Analysis Key Findings\n",
        "\n",
        "*   Synthetic data for linear regression was successfully generated, with 100 data points for feature `x` and corresponding target variable `y`.\n",
        "*   The linear regression model's weight `w` and bias `b` were initialized as PyTorch tensors with appropriate shapes (`(1, 1)` and `(1,)` respectively) and gradient tracking enabled.\n",
        "*   A mean squared error (MSE) loss function was defined to measure the difference between predicted and true values.\n",
        "*   A stochastic gradient descent (SGD) optimizer function was defined to update the model parameters based on calculated gradients.\n",
        "*   The training loop was implemented and executed for 100 epochs, showing a consistent decrease in the MSE loss, indicating successful learning. The loss at epoch 100 was approximately 0.0088.\n",
        "*   The original data points and the fitted line from the trained model were successfully plotted, visually demonstrating how well the model fits the generated data.\n",
        "\n",
        "### Insights or Next Steps\n",
        "\n",
        "*   The implementation demonstrates a fundamental understanding of building and training a linear regression model from scratch using PyTorch tensors and manual gradient updates.\n",
        "*   Further steps could involve adding more complexity, such as implementing different optimization algorithms or exploring regularization techniques to improve model performance on more complex datasets.\n"
      ]
    }
  ]
}